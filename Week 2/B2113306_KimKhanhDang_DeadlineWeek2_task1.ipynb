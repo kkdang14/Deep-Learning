{
 "nbformat": 4,
 "nbformat_minor": 0,
 "metadata": {
  "colab": {
   "provenance": [],
   "authorship_tag": "ABX9TyOVgpxcK50mu25/ymL6tYZH"
  },
  "kernelspec": {
   "name": "python3",
   "language": "python",
   "display_name": "Python 3 (ipykernel)"
  },
  "language_info": {
   "name": "python"
  }
 },
 "cells": [
  {
   "cell_type": "code",
   "execution_count": 29,
   "metadata": {
    "id": "unSgMsWTgC76",
    "ExecuteTime": {
     "end_time": "2024-08-22T13:33:31.942851700Z",
     "start_time": "2024-08-22T13:33:31.924738300Z"
    }
   },
   "outputs": [],
   "source": [
    "from sklearn import datasets\n",
    "import numpy as np\n",
    "import pandas as pd\n",
    "import matplotlib.pyplot as plt\n",
    "# import seaborn as sns\n",
    "from sklearn.model_selection import train_test_split\n",
    "from sklearn.linear_model import LinearRegression\n",
    "from sklearn.metrics import mean_squared_error, r2_score \n",
    "from keras.api.models import Sequential\n",
    "from keras.api.layers import Dense\n",
    "from sklearn.metrics import accuracy_score\n",
    "from sklearn.datasets import fetch_openml\n",
    "from sklearn.preprocessing import OrdinalEncoder\n",
    "from sklearn.compose import make_column_transformer"
   ]
  },
  {
   "cell_type": "code",
   "source": [
    "\n",
    "iris = fetch_openml(name='iris', version=1, parser='auto', as_frame=True)\n",
    "X = iris.data\n",
    "y = iris.target"
   ],
   "metadata": {
    "colab": {
     "base_uri": "https://localhost:8080/"
    },
    "collapsed": true,
    "id": "NqLViRl6gwQ5",
    "executionInfo": {
     "status": "ok",
     "timestamp": 1723468933488,
     "user_tz": -420,
     "elapsed": 4,
     "user": {
      "displayName": "Kim Khanh Dang B2113306",
      "userId": "10170023914068149393"
     }
    },
    "outputId": "b2a0038e-5319-4165-f516-951fe18908a5",
    "ExecuteTime": {
     "end_time": "2024-08-22T13:33:32.612762400Z",
     "start_time": "2024-08-22T13:33:32.587413100Z"
    }
   },
   "execution_count": 30,
   "outputs": []
  },
  {
   "cell_type": "code",
   "source": [
    "Data = X[:100]\n",
    "target = y[:100]\n",
    "print(Data)\n",
    "print(target)\n",
    "target = target.replace({'Iris-setosa': 0, 'Iris-versicolor': 1, 'Iris-virginica': 2})\n",
    "target = pd.to_numeric(target, errors='coerce').astype(int)\n",
    "print(target)"
   ],
   "metadata": {
    "colab": {
     "base_uri": "https://localhost:8080/"
    },
    "id": "hLRA07o9hCkd",
    "executionInfo": {
     "status": "ok",
     "timestamp": 1723469536342,
     "user_tz": -420,
     "elapsed": 5,
     "user": {
      "displayName": "Kim Khanh Dang B2113306",
      "userId": "10170023914068149393"
     }
    },
    "outputId": "a85b19b5-3348-4593-86e3-5d2ed95e0bb4",
    "ExecuteTime": {
     "end_time": "2024-08-22T13:33:33.327062300Z",
     "start_time": "2024-08-22T13:33:33.298970100Z"
    }
   },
   "execution_count": 31,
   "outputs": [
    {
     "name": "stdout",
     "output_type": "stream",
     "text": [
      "    sepallength  sepalwidth  petallength  petalwidth\n",
      "0           5.1         3.5          1.4         0.2\n",
      "1           4.9         3.0          1.4         0.2\n",
      "2           4.7         3.2          1.3         0.2\n",
      "3           4.6         3.1          1.5         0.2\n",
      "4           5.0         3.6          1.4         0.2\n",
      "..          ...         ...          ...         ...\n",
      "95          5.7         3.0          4.2         1.2\n",
      "96          5.7         2.9          4.2         1.3\n",
      "97          6.2         2.9          4.3         1.3\n",
      "98          5.1         2.5          3.0         1.1\n",
      "99          5.7         2.8          4.1         1.3\n",
      "\n",
      "[100 rows x 4 columns]\n",
      "0         Iris-setosa\n",
      "1         Iris-setosa\n",
      "2         Iris-setosa\n",
      "3         Iris-setosa\n",
      "4         Iris-setosa\n",
      "           ...       \n",
      "95    Iris-versicolor\n",
      "96    Iris-versicolor\n",
      "97    Iris-versicolor\n",
      "98    Iris-versicolor\n",
      "99    Iris-versicolor\n",
      "Name: class, Length: 100, dtype: category\n",
      "Categories (3, object): ['Iris-setosa', 'Iris-versicolor', 'Iris-virginica']\n",
      "0     0\n",
      "1     0\n",
      "2     0\n",
      "3     0\n",
      "4     0\n",
      "     ..\n",
      "95    1\n",
      "96    1\n",
      "97    1\n",
      "98    1\n",
      "99    1\n",
      "Name: class, Length: 100, dtype: int32\n"
     ]
    },
    {
     "name": "stderr",
     "output_type": "stream",
     "text": [
      "C:\\Users\\HP\\AppData\\Local\\Temp\\ipykernel_4500\\574037529.py:5: FutureWarning: Downcasting behavior in `replace` is deprecated and will be removed in a future version. To retain the old behavior, explicitly call `result.infer_objects(copy=False)`. To opt-in to the future behavior, set `pd.set_option('future.no_silent_downcasting', True)`\n",
      "  target = target.replace({'Iris-setosa': 0, 'Iris-versicolor': 1, 'Iris-virginica': 2})\n",
      "C:\\Users\\HP\\AppData\\Local\\Temp\\ipykernel_4500\\574037529.py:5: FutureWarning: The behavior of Series.replace (and DataFrame.replace) with CategoricalDtype is deprecated. In a future version, replace will only be used for cases that preserve the categories. To change the categories, use ser.cat.rename_categories instead.\n",
      "  target = target.replace({'Iris-setosa': 0, 'Iris-versicolor': 1, 'Iris-virginica': 2})\n"
     ]
    }
   ]
  },
  {
   "cell_type": "code",
   "source": [
    "X_train, X_test, y_train, y_test = train_test_split(Data, target, test_size=0.2, shuffle=True, random_state=42)"
   ],
   "metadata": {
    "id": "Mh27Eukih1QO",
    "ExecuteTime": {
     "end_time": "2024-08-22T13:33:33.960861Z",
     "start_time": "2024-08-22T13:33:33.943035800Z"
    }
   },
   "execution_count": 32,
   "outputs": []
  },
  {
   "cell_type": "code",
   "source": [
    "model = Sequential()\n",
    "model.add(Dense(1, use_bias=True, input_shape=(4,), activation='sigmoid'))\n",
    "model.compile(loss='binary_crossentropy', optimizer='adam', metrics=['accuracy'])\n",
    "model.fit(X_train, y_train, epochs=150, batch_size=32, verbose=0, validation_data=(X_test, y_test))"
   ],
   "metadata": {
    "colab": {
     "base_uri": "https://localhost:8080/"
    },
    "id": "xhRVGJeOjUA7",
    "executionInfo": {
     "status": "ok",
     "timestamp": 1723469476551,
     "user_tz": -420,
     "elapsed": 9677,
     "user": {
      "displayName": "Kim Khanh Dang B2113306",
      "userId": "10170023914068149393"
     }
    },
    "outputId": "8c92fe89-0906-4951-e8f6-3519d02f28c3",
    "ExecuteTime": {
     "end_time": "2024-08-22T13:33:43.792977800Z",
     "start_time": "2024-08-22T13:33:34.965479700Z"
    }
   },
   "execution_count": 33,
   "outputs": [
    {
     "name": "stderr",
     "output_type": "stream",
     "text": [
      "C:\\Users\\HP\\PycharmProjects\\DeepLearning\\venv\\lib\\site-packages\\keras\\src\\layers\\core\\dense.py:87: UserWarning: Do not pass an `input_shape`/`input_dim` argument to a layer. When using Sequential models, prefer using an `Input(shape)` object as the first layer in the model instead.\n",
      "  super().__init__(activity_regularizer=activity_regularizer, **kwargs)\n"
     ]
    },
    {
     "data": {
      "text/plain": "<keras.src.callbacks.history.History at 0x2547c104940>"
     },
     "execution_count": 33,
     "metadata": {},
     "output_type": "execute_result"
    }
   ]
  },
  {
   "cell_type": "code",
   "source": [
    "score = model.evaluate(X_test, y_test, verbose=0)\n",
    "print(\"Test loss:\", score[0])\n",
    "print(\"Test accuracy:\", score[1])"
   ],
   "metadata": {
    "colab": {
     "base_uri": "https://localhost:8080/"
    },
    "id": "AFYFGXvlmDZq",
    "executionInfo": {
     "status": "ok",
     "timestamp": 1723466718606,
     "user_tz": -420,
     "elapsed": 2,
     "user": {
      "displayName": "Kim Khanh Dang B2113306",
      "userId": "10170023914068149393"
     }
    },
    "outputId": "3781318a-53d1-4f0e-8d6c-7612d0a00802",
    "ExecuteTime": {
     "end_time": "2024-08-22T13:35:09.679530300Z",
     "start_time": "2024-08-22T13:35:09.599090500Z"
    }
   },
   "execution_count": 36,
   "outputs": [
    {
     "name": "stdout",
     "output_type": "stream",
     "text": [
      "Test loss: 0.5958291888237\n",
      "Test accuracy: 0.4000000059604645\n"
     ]
    }
   ]
  },
  {
   "cell_type": "code",
   "execution_count": null,
   "outputs": [],
   "source": [],
   "metadata": {
    "collapsed": false
   }
  }
 ]
}
