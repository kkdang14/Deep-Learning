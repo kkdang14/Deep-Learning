{
 "cells": [
  {
   "cell_type": "code",
   "execution_count": 12,
   "outputs": [],
   "source": [
    "import tensorflow as tf\n",
    "import pandas as pd\n",
    "import numpy as np\n",
    "from sklearn.model_selection import train_test_split"
   ],
   "metadata": {
    "collapsed": false,
    "ExecuteTime": {
     "end_time": "2024-09-07T08:03:59.858579700Z",
     "start_time": "2024-09-07T08:03:56.218612100Z"
    }
   },
   "id": "56ea0710cb637364"
  },
  {
   "cell_type": "code",
   "execution_count": 21,
   "outputs": [],
   "source": [
    "@tf.function\n",
    "def layer1(X, W1, B1):\n",
    "    return tf.nn.relu(tf.matmul(X, W1) + B1)\n",
    "\n",
    "@tf.function\n",
    "def layer2(layer1, W2, B2):\n",
    "    return tf.nn.relu(tf.add(tf.matmul(layer1, W2), B2))"
   ],
   "metadata": {
    "collapsed": false,
    "ExecuteTime": {
     "end_time": "2024-09-07T08:31:18.583983300Z",
     "start_time": "2024-09-07T08:31:18.425983500Z"
    }
   },
   "id": "69218bcdfeb9f4a5"
  },
  {
   "cell_type": "code",
   "execution_count": 22,
   "outputs": [],
   "source": [
    "@tf.function\n",
    "def predict(X, W1, B1, W2, B2):\n",
    "    return layer2(layer1(X, W1, B1), W2, B2)"
   ],
   "metadata": {
    "collapsed": false,
    "ExecuteTime": {
     "end_time": "2024-09-07T08:31:19.234209700Z",
     "start_time": "2024-09-07T08:31:19.225210700Z"
    }
   },
   "id": "96826d05393579c5"
  },
  {
   "cell_type": "code",
   "execution_count": 23,
   "outputs": [],
   "source": [
    "@tf.function\n",
    "def L(y, y_hat):\n",
    "    loss = y*tf.math.log(y_hat)\n",
    "    loss1 = -tf.reduce_mean(tf.reduce_sum(loss, axis=1)) #ma tran cong tung dong lai\n",
    "    return tf.train.AdamOptimizer().minimize(loss1)   "
   ],
   "metadata": {
    "collapsed": false,
    "ExecuteTime": {
     "end_time": "2024-09-07T08:31:20.846960Z",
     "start_time": "2024-09-07T08:31:20.820993300Z"
    }
   },
   "id": "c63398954f602bcf"
  },
  {
   "cell_type": "code",
   "execution_count": 24,
   "outputs": [
    {
     "data": {
      "text/plain": "               X1          X2          X3          X4          X5          X6  \\\ncount  329.000000  329.000000  329.000000  329.000000  329.000000  329.000000   \nmean     5.645227   -4.270814    2.635319    7.200207   -5.648733    9.810236   \nstd      5.105302    3.514350    3.635323    4.310095    4.596180    3.624654   \nmin     -6.067831  -14.972962   -6.186583   -8.844231  -15.656596   -3.528964   \n25%      2.065603   -6.515764    0.137042    4.700874   -8.417684    8.643563   \n50%      4.954206   -4.252512    2.029268    7.804680   -6.786670   10.379330   \n75%      9.793648   -1.560250    4.178026   10.129165   -4.463308   11.784360   \nmax     17.749851    3.570765   17.066487   16.178942    7.912809   21.445837   \n\n               X7          X8          X9         X10         X11         X12  \ncount  329.000000  329.000000  329.000000  329.000000  329.000000  329.000000  \nmean    -9.408053    5.117328   -1.229432   -2.362288    2.430833   -3.980415  \nstd      2.484117    2.650608    3.634849    5.042034    3.478467    2.985879  \nmin    -15.365665   -2.873862  -15.510974  -11.429178  -13.664104  -13.724103  \n25%    -11.120860    3.482167   -1.749082   -5.083522    1.197789   -5.941409  \n50%     -9.710399    4.843103   -0.389970   -3.323147    3.169703   -4.374334  \n75%     -7.989370    6.588931    0.779993   -1.506037    4.673452   -2.191658  \nmax     -0.424033   13.846083    4.789989   16.326455    9.166066    5.259430  ",
      "text/html": "<div>\n<style scoped>\n    .dataframe tbody tr th:only-of-type {\n        vertical-align: middle;\n    }\n\n    .dataframe tbody tr th {\n        vertical-align: top;\n    }\n\n    .dataframe thead th {\n        text-align: right;\n    }\n</style>\n<table border=\"1\" class=\"dataframe\">\n  <thead>\n    <tr style=\"text-align: right;\">\n      <th></th>\n      <th>X1</th>\n      <th>X2</th>\n      <th>X3</th>\n      <th>X4</th>\n      <th>X5</th>\n      <th>X6</th>\n      <th>X7</th>\n      <th>X8</th>\n      <th>X9</th>\n      <th>X10</th>\n      <th>X11</th>\n      <th>X12</th>\n    </tr>\n  </thead>\n  <tbody>\n    <tr>\n      <th>count</th>\n      <td>329.000000</td>\n      <td>329.000000</td>\n      <td>329.000000</td>\n      <td>329.000000</td>\n      <td>329.000000</td>\n      <td>329.000000</td>\n      <td>329.000000</td>\n      <td>329.000000</td>\n      <td>329.000000</td>\n      <td>329.000000</td>\n      <td>329.000000</td>\n      <td>329.000000</td>\n    </tr>\n    <tr>\n      <th>mean</th>\n      <td>5.645227</td>\n      <td>-4.270814</td>\n      <td>2.635319</td>\n      <td>7.200207</td>\n      <td>-5.648733</td>\n      <td>9.810236</td>\n      <td>-9.408053</td>\n      <td>5.117328</td>\n      <td>-1.229432</td>\n      <td>-2.362288</td>\n      <td>2.430833</td>\n      <td>-3.980415</td>\n    </tr>\n    <tr>\n      <th>std</th>\n      <td>5.105302</td>\n      <td>3.514350</td>\n      <td>3.635323</td>\n      <td>4.310095</td>\n      <td>4.596180</td>\n      <td>3.624654</td>\n      <td>2.484117</td>\n      <td>2.650608</td>\n      <td>3.634849</td>\n      <td>5.042034</td>\n      <td>3.478467</td>\n      <td>2.985879</td>\n    </tr>\n    <tr>\n      <th>min</th>\n      <td>-6.067831</td>\n      <td>-14.972962</td>\n      <td>-6.186583</td>\n      <td>-8.844231</td>\n      <td>-15.656596</td>\n      <td>-3.528964</td>\n      <td>-15.365665</td>\n      <td>-2.873862</td>\n      <td>-15.510974</td>\n      <td>-11.429178</td>\n      <td>-13.664104</td>\n      <td>-13.724103</td>\n    </tr>\n    <tr>\n      <th>25%</th>\n      <td>2.065603</td>\n      <td>-6.515764</td>\n      <td>0.137042</td>\n      <td>4.700874</td>\n      <td>-8.417684</td>\n      <td>8.643563</td>\n      <td>-11.120860</td>\n      <td>3.482167</td>\n      <td>-1.749082</td>\n      <td>-5.083522</td>\n      <td>1.197789</td>\n      <td>-5.941409</td>\n    </tr>\n    <tr>\n      <th>50%</th>\n      <td>4.954206</td>\n      <td>-4.252512</td>\n      <td>2.029268</td>\n      <td>7.804680</td>\n      <td>-6.786670</td>\n      <td>10.379330</td>\n      <td>-9.710399</td>\n      <td>4.843103</td>\n      <td>-0.389970</td>\n      <td>-3.323147</td>\n      <td>3.169703</td>\n      <td>-4.374334</td>\n    </tr>\n    <tr>\n      <th>75%</th>\n      <td>9.793648</td>\n      <td>-1.560250</td>\n      <td>4.178026</td>\n      <td>10.129165</td>\n      <td>-4.463308</td>\n      <td>11.784360</td>\n      <td>-7.989370</td>\n      <td>6.588931</td>\n      <td>0.779993</td>\n      <td>-1.506037</td>\n      <td>4.673452</td>\n      <td>-2.191658</td>\n    </tr>\n    <tr>\n      <th>max</th>\n      <td>17.749851</td>\n      <td>3.570765</td>\n      <td>17.066487</td>\n      <td>16.178942</td>\n      <td>7.912809</td>\n      <td>21.445837</td>\n      <td>-0.424033</td>\n      <td>13.846083</td>\n      <td>4.789989</td>\n      <td>16.326455</td>\n      <td>9.166066</td>\n      <td>5.259430</td>\n    </tr>\n  </tbody>\n</table>\n</div>"
     },
     "execution_count": 24,
     "metadata": {},
     "output_type": "execute_result"
    }
   ],
   "source": [
    "data = pd.read_csv('accent-mfcc-data-1.csv')\n",
    "X = data.drop('language', axis=1)\n",
    "y = data['language']\n",
    "data.describe()"
   ],
   "metadata": {
    "collapsed": false,
    "ExecuteTime": {
     "end_time": "2024-09-07T08:31:21.907489900Z",
     "start_time": "2024-09-07T08:31:21.637443800Z"
    }
   },
   "id": "6fe4fd22fae2dd68"
  },
  {
   "cell_type": "code",
   "execution_count": 25,
   "outputs": [],
   "source": [
    "X_train, X_test, y_train, y_test = train_test_split(X, y, test_size=0.2, random_state=42, shuffle=True)"
   ],
   "metadata": {
    "collapsed": false,
    "ExecuteTime": {
     "end_time": "2024-09-07T08:31:23.259349700Z",
     "start_time": "2024-09-07T08:31:22.968078700Z"
    }
   },
   "id": "4126f87b5c56d8bc"
  },
  {
   "cell_type": "code",
   "execution_count": 26,
   "outputs": [
    {
     "ename": "ValueError",
     "evalue": "could not convert string to float: 'GE'",
     "output_type": "error",
     "traceback": [
      "\u001B[1;31m---------------------------------------------------------------------------\u001B[0m",
      "\u001B[1;31mValueError\u001B[0m                                Traceback (most recent call last)",
      "Cell \u001B[1;32mIn[26], line 2\u001B[0m\n\u001B[0;32m      1\u001B[0m X_train \u001B[38;5;241m=\u001B[39m tf\u001B[38;5;241m.\u001B[39mconstant(X_train, dtype\u001B[38;5;241m=\u001B[39mtf\u001B[38;5;241m.\u001B[39mfloat64)\n\u001B[1;32m----> 2\u001B[0m y_train \u001B[38;5;241m=\u001B[39m \u001B[43mtf\u001B[49m\u001B[38;5;241;43m.\u001B[39;49m\u001B[43mconstant\u001B[49m\u001B[43m(\u001B[49m\u001B[43my_train\u001B[49m\u001B[43m,\u001B[49m\u001B[43m \u001B[49m\u001B[43mdtype\u001B[49m\u001B[38;5;241;43m=\u001B[39;49m\u001B[43mtf\u001B[49m\u001B[38;5;241;43m.\u001B[39;49m\u001B[43mfloat64\u001B[49m\u001B[43m)\u001B[49m\n\u001B[0;32m      3\u001B[0m X_test \u001B[38;5;241m=\u001B[39m tf\u001B[38;5;241m.\u001B[39mconstant(X_test, dtype\u001B[38;5;241m=\u001B[39mtf\u001B[38;5;241m.\u001B[39mfloat64)\n\u001B[0;32m      4\u001B[0m y_test \u001B[38;5;241m=\u001B[39m tf\u001B[38;5;241m.\u001B[39mconstant(y_test, dtype\u001B[38;5;241m=\u001B[39mtf\u001B[38;5;241m.\u001B[39mfloat64)\n",
      "File \u001B[1;32m~\\PycharmProjects\\DeepLearning\\venv\\lib\\site-packages\\tensorflow\\python\\ops\\weak_tensor_ops.py:142\u001B[0m, in \u001B[0;36mweak_tensor_binary_op_wrapper.<locals>.wrapper\u001B[1;34m(*args, **kwargs)\u001B[0m\n\u001B[0;32m    140\u001B[0m \u001B[38;5;28;01mdef\u001B[39;00m \u001B[38;5;21mwrapper\u001B[39m(\u001B[38;5;241m*\u001B[39margs, \u001B[38;5;241m*\u001B[39m\u001B[38;5;241m*\u001B[39mkwargs):\n\u001B[0;32m    141\u001B[0m   \u001B[38;5;28;01mif\u001B[39;00m \u001B[38;5;129;01mnot\u001B[39;00m ops\u001B[38;5;241m.\u001B[39mis_auto_dtype_conversion_enabled():\n\u001B[1;32m--> 142\u001B[0m     \u001B[38;5;28;01mreturn\u001B[39;00m op(\u001B[38;5;241m*\u001B[39margs, \u001B[38;5;241m*\u001B[39m\u001B[38;5;241m*\u001B[39mkwargs)\n\u001B[0;32m    143\u001B[0m   bound_arguments \u001B[38;5;241m=\u001B[39m signature\u001B[38;5;241m.\u001B[39mbind(\u001B[38;5;241m*\u001B[39margs, \u001B[38;5;241m*\u001B[39m\u001B[38;5;241m*\u001B[39mkwargs)\n\u001B[0;32m    144\u001B[0m   bound_arguments\u001B[38;5;241m.\u001B[39mapply_defaults()\n",
      "File \u001B[1;32m~\\PycharmProjects\\DeepLearning\\venv\\lib\\site-packages\\tensorflow\\python\\framework\\constant_op.py:276\u001B[0m, in \u001B[0;36mconstant\u001B[1;34m(value, dtype, shape, name)\u001B[0m\n\u001B[0;32m    177\u001B[0m \u001B[38;5;129m@tf_export\u001B[39m(\u001B[38;5;124m\"\u001B[39m\u001B[38;5;124mconstant\u001B[39m\u001B[38;5;124m\"\u001B[39m, v1\u001B[38;5;241m=\u001B[39m[])\n\u001B[0;32m    178\u001B[0m \u001B[38;5;28;01mdef\u001B[39;00m \u001B[38;5;21mconstant\u001B[39m(\n\u001B[0;32m    179\u001B[0m     value, dtype\u001B[38;5;241m=\u001B[39m\u001B[38;5;28;01mNone\u001B[39;00m, shape\u001B[38;5;241m=\u001B[39m\u001B[38;5;28;01mNone\u001B[39;00m, name\u001B[38;5;241m=\u001B[39m\u001B[38;5;124m\"\u001B[39m\u001B[38;5;124mConst\u001B[39m\u001B[38;5;124m\"\u001B[39m\n\u001B[0;32m    180\u001B[0m ) \u001B[38;5;241m-\u001B[39m\u001B[38;5;241m>\u001B[39m Union[ops\u001B[38;5;241m.\u001B[39mOperation, ops\u001B[38;5;241m.\u001B[39m_EagerTensorBase]:\n\u001B[0;32m    181\u001B[0m \u001B[38;5;250m  \u001B[39m\u001B[38;5;124;03m\"\"\"Creates a constant tensor from a tensor-like object.\u001B[39;00m\n\u001B[0;32m    182\u001B[0m \n\u001B[0;32m    183\u001B[0m \u001B[38;5;124;03m  Note: All eager `tf.Tensor` values are immutable (in contrast to\u001B[39;00m\n\u001B[1;32m   (...)\u001B[0m\n\u001B[0;32m    274\u001B[0m \u001B[38;5;124;03m    ValueError: if called on a symbolic tensor.\u001B[39;00m\n\u001B[0;32m    275\u001B[0m \u001B[38;5;124;03m  \"\"\"\u001B[39;00m\n\u001B[1;32m--> 276\u001B[0m   \u001B[38;5;28;01mreturn\u001B[39;00m \u001B[43m_constant_impl\u001B[49m\u001B[43m(\u001B[49m\u001B[43mvalue\u001B[49m\u001B[43m,\u001B[49m\u001B[43m \u001B[49m\u001B[43mdtype\u001B[49m\u001B[43m,\u001B[49m\u001B[43m \u001B[49m\u001B[43mshape\u001B[49m\u001B[43m,\u001B[49m\u001B[43m \u001B[49m\u001B[43mname\u001B[49m\u001B[43m,\u001B[49m\u001B[43m \u001B[49m\u001B[43mverify_shape\u001B[49m\u001B[38;5;241;43m=\u001B[39;49m\u001B[38;5;28;43;01mFalse\u001B[39;49;00m\u001B[43m,\u001B[49m\n\u001B[0;32m    277\u001B[0m \u001B[43m                        \u001B[49m\u001B[43mallow_broadcast\u001B[49m\u001B[38;5;241;43m=\u001B[39;49m\u001B[38;5;28;43;01mTrue\u001B[39;49;00m\u001B[43m)\u001B[49m\n",
      "File \u001B[1;32m~\\PycharmProjects\\DeepLearning\\venv\\lib\\site-packages\\tensorflow\\python\\framework\\constant_op.py:289\u001B[0m, in \u001B[0;36m_constant_impl\u001B[1;34m(value, dtype, shape, name, verify_shape, allow_broadcast)\u001B[0m\n\u001B[0;32m    287\u001B[0m     \u001B[38;5;28;01mwith\u001B[39;00m trace\u001B[38;5;241m.\u001B[39mTrace(\u001B[38;5;124m\"\u001B[39m\u001B[38;5;124mtf.constant\u001B[39m\u001B[38;5;124m\"\u001B[39m):\n\u001B[0;32m    288\u001B[0m       \u001B[38;5;28;01mreturn\u001B[39;00m _constant_eager_impl(ctx, value, dtype, shape, verify_shape)\n\u001B[1;32m--> 289\u001B[0m   \u001B[38;5;28;01mreturn\u001B[39;00m \u001B[43m_constant_eager_impl\u001B[49m\u001B[43m(\u001B[49m\u001B[43mctx\u001B[49m\u001B[43m,\u001B[49m\u001B[43m \u001B[49m\u001B[43mvalue\u001B[49m\u001B[43m,\u001B[49m\u001B[43m \u001B[49m\u001B[43mdtype\u001B[49m\u001B[43m,\u001B[49m\u001B[43m \u001B[49m\u001B[43mshape\u001B[49m\u001B[43m,\u001B[49m\u001B[43m \u001B[49m\u001B[43mverify_shape\u001B[49m\u001B[43m)\u001B[49m\n\u001B[0;32m    291\u001B[0m const_tensor \u001B[38;5;241m=\u001B[39m ops\u001B[38;5;241m.\u001B[39m_create_graph_constant(  \u001B[38;5;66;03m# pylint: disable=protected-access\u001B[39;00m\n\u001B[0;32m    292\u001B[0m     value, dtype, shape, name, verify_shape, allow_broadcast\n\u001B[0;32m    293\u001B[0m )\n\u001B[0;32m    294\u001B[0m \u001B[38;5;28;01mreturn\u001B[39;00m const_tensor\n",
      "File \u001B[1;32m~\\PycharmProjects\\DeepLearning\\venv\\lib\\site-packages\\tensorflow\\python\\framework\\constant_op.py:301\u001B[0m, in \u001B[0;36m_constant_eager_impl\u001B[1;34m(ctx, value, dtype, shape, verify_shape)\u001B[0m\n\u001B[0;32m    297\u001B[0m \u001B[38;5;28;01mdef\u001B[39;00m \u001B[38;5;21m_constant_eager_impl\u001B[39m(\n\u001B[0;32m    298\u001B[0m     ctx, value, dtype, shape, verify_shape\n\u001B[0;32m    299\u001B[0m ) \u001B[38;5;241m-\u001B[39m\u001B[38;5;241m>\u001B[39m ops\u001B[38;5;241m.\u001B[39m_EagerTensorBase:\n\u001B[0;32m    300\u001B[0m \u001B[38;5;250m  \u001B[39m\u001B[38;5;124;03m\"\"\"Creates a constant on the current device.\"\"\"\u001B[39;00m\n\u001B[1;32m--> 301\u001B[0m   t \u001B[38;5;241m=\u001B[39m \u001B[43mconvert_to_eager_tensor\u001B[49m\u001B[43m(\u001B[49m\u001B[43mvalue\u001B[49m\u001B[43m,\u001B[49m\u001B[43m \u001B[49m\u001B[43mctx\u001B[49m\u001B[43m,\u001B[49m\u001B[43m \u001B[49m\u001B[43mdtype\u001B[49m\u001B[43m)\u001B[49m\n\u001B[0;32m    302\u001B[0m   \u001B[38;5;28;01mif\u001B[39;00m shape \u001B[38;5;129;01mis\u001B[39;00m \u001B[38;5;28;01mNone\u001B[39;00m:\n\u001B[0;32m    303\u001B[0m     \u001B[38;5;28;01mreturn\u001B[39;00m t\n",
      "File \u001B[1;32m~\\PycharmProjects\\DeepLearning\\venv\\lib\\site-packages\\tensorflow\\python\\framework\\constant_op.py:108\u001B[0m, in \u001B[0;36mconvert_to_eager_tensor\u001B[1;34m(value, ctx, dtype)\u001B[0m\n\u001B[0;32m    106\u001B[0m     dtype \u001B[38;5;241m=\u001B[39m dtypes\u001B[38;5;241m.\u001B[39mas_dtype(dtype)\u001B[38;5;241m.\u001B[39mas_datatype_enum\n\u001B[0;32m    107\u001B[0m ctx\u001B[38;5;241m.\u001B[39mensure_initialized()\n\u001B[1;32m--> 108\u001B[0m \u001B[38;5;28;01mreturn\u001B[39;00m \u001B[43mops\u001B[49m\u001B[38;5;241;43m.\u001B[39;49m\u001B[43mEagerTensor\u001B[49m\u001B[43m(\u001B[49m\u001B[43mvalue\u001B[49m\u001B[43m,\u001B[49m\u001B[43m \u001B[49m\u001B[43mctx\u001B[49m\u001B[38;5;241;43m.\u001B[39;49m\u001B[43mdevice_name\u001B[49m\u001B[43m,\u001B[49m\u001B[43m \u001B[49m\u001B[43mdtype\u001B[49m\u001B[43m)\u001B[49m\n",
      "\u001B[1;31mValueError\u001B[0m: could not convert string to float: 'GE'"
     ]
    }
   ],
   "source": [
    "X_train = tf.constant(X_train, dtype=tf.float64)\n",
    "y_train = tf.constant(y_train, dtype=tf.float64)\n",
    "X_test = tf.constant(X_test, dtype=tf.float64)\n",
    "y_test = tf.constant(y_test, dtype=tf.float64)\n",
    "\n",
    "input_size = X_train.shape[1]\n",
    "hidden_units_1 = 128\n",
    "hidden_units_2 = 64\n",
    "output_size = len(np.unique(y_train))\n",
    "\n",
    "# Weights and biases (random initialization)\n",
    "W1 = tf.Variable(tf.random.normal([input_size, hidden_units_1], dtype=tf.float64))\n",
    "B1 = tf.Variable(tf.random.normal([hidden_units_1], dtype=tf.float64))\n",
    "\n",
    "W2 = tf.Variable(tf.random.normal([hidden_units_1, hidden_units_2], dtype=tf.float64))\n",
    "B2 = tf.Variable(tf.random.normal([hidden_units_2], dtype=tf.float64))\n",
    "\n",
    "W_out = tf.Variable(tf.random.normal([hidden_units_2, output_size], dtype=tf.float64))\n",
    "b_out = tf.Variable(tf.random.normal([output_size], dtype=tf.float64))\n",
    "alpha = 0.001\n",
    "for it in range(350):\n",
    "    with tf.GradientTape() as t:\n",
    "        current_loss = L(y, predict(X, W1, B1, W2, B2))\n",
    "    print(\"it\", it, current_loss)\n",
    "    dW1, dB1, dW2, dB2 = t.gradient(current_loss, [W1, B1, W2, B2])\n",
    "    W1.assign_sub(alpha * dW1)\n",
    "    B1.assign_sub(alpha * dB1)\n",
    "    W2.assign_sub(alpha * dW2)\n",
    "    B2.assign_sub(alpha * dB2)\n",
    "    if it % 10 == 0:\n",
    "        print(f'Epoch {it}, Loss: {current_loss.numpy()}')"
   ],
   "metadata": {
    "collapsed": false,
    "ExecuteTime": {
     "end_time": "2024-09-07T08:31:24.373829700Z",
     "start_time": "2024-09-07T08:31:23.429146900Z"
    }
   },
   "id": "517464477a8e988e"
  },
  {
   "cell_type": "code",
   "execution_count": 46,
   "outputs": [
    {
     "name": "stdout",
     "output_type": "stream",
     "text": [
      "[0 0 0 0]\n",
      "[0 0 0 0]\n",
      "1.0\n"
     ]
    }
   ],
   "source": [
    "y_hat = predict(X, W1, B1, W2, B2)\n",
    "y_pred_labels = tf.argmax(y_hat, axis=1).numpy()\n",
    "y_true_labels = tf.argmax(y, axis=1).numpy()\n",
    "print(y_pred_labels)\n",
    "print(y_true_labels)\n",
    "    \n",
    "accuracy = np.mean(y_pred_labels == y_true_labels)\n",
    "print(accuracy)"
   ],
   "metadata": {
    "collapsed": false,
    "ExecuteTime": {
     "end_time": "2024-08-26T15:00:22.954521200Z",
     "start_time": "2024-08-26T15:00:22.929604200Z"
    }
   },
   "id": "989f79eae008e756"
  },
  {
   "cell_type": "markdown",
   "source": [],
   "metadata": {
    "collapsed": false
   },
   "id": "ba9d450d8ce75390"
  }
 ],
 "metadata": {
  "kernelspec": {
   "display_name": "Python 3",
   "language": "python",
   "name": "python3"
  },
  "language_info": {
   "codemirror_mode": {
    "name": "ipython",
    "version": 2
   },
   "file_extension": ".py",
   "mimetype": "text/x-python",
   "name": "python",
   "nbconvert_exporter": "python",
   "pygments_lexer": "ipython2",
   "version": "2.7.6"
  }
 },
 "nbformat": 4,
 "nbformat_minor": 5
}
